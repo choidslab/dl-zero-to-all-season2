{
 "cells": [
  {
   "cell_type": "code",
   "execution_count": 2,
   "metadata": {
    "collapsed": true,
    "pycharm": {
     "is_executing": false
    }
   },
   "outputs": [
    {
     "name": "stdout",
     "text": [
      "    0 |     2.4520 |     0.3760 |  45.660004\n",
      "   10 |     1.1036 |     0.0034 |   0.206336\n",
      "   20 |     1.0128 |    -0.0209 |   0.001026\n",
      "   30 |     1.0065 |    -0.0218 |   0.000093\n",
      "   40 |     1.0059 |    -0.0212 |   0.000083\n",
      "   50 |     1.0057 |    -0.0205 |   0.000077\n",
      "   60 |     1.0055 |    -0.0198 |   0.000072\n",
      "   70 |     1.0053 |    -0.0192 |   0.000067\n",
      "   80 |     1.0051 |    -0.0185 |   0.000063\n",
      "   90 |     1.0050 |    -0.0179 |   0.000059\n",
      "\n"
     ],
     "output_type": "stream"
    }
   ],
   "source": [
    "import tensorflow as tf\n",
    "import numpy as np\n",
    "\n",
    "# print(tf.__version__)\n",
    "\n",
    "x_data = [1, 2, 3, 4, 5]  # input data\n",
    "y_data = [1, 2, 3, 4, 5]  # output data\n",
    "\n",
    "W = tf.Variable(2.9)  # initialize Weight\n",
    "b = tf.Variable(0.5)  # initialize bias\n",
    "\n",
    "learning_rate = 0.01  # learning rate --> weight, bias 업데이트 비율을 조정하는 값\n",
    "\n",
    "for i in range(100):  # Update W, b\n",
    "    # Gradient Descent\n",
    "    with tf.GradientTape() as tape:\n",
    "        hypothesis = W * x_data + b\n",
    "        cost = tf.reduce_mean(tf.square(hypothesis - y_data))\n",
    "    W_grad, b_grad = tape.gradient(cost, [W, b])\n",
    "    W.assign_sub(learning_rate * W_grad)\n",
    "    b.assign_sub(learning_rate * b_grad)\n",
    "\n",
    "    if i % 10 == 0:\n",
    "        print(\"{:5} | {:10.4f} | {:10.4f} | {:10.6f}\".format(i, W.numpy(), b.numpy(), cost))\n",
    "print()\n"
   ]
  },
  {
   "cell_type": "code",
   "execution_count": 3,
   "outputs": [
    {
     "name": "stdout",
     "text": [
      "tf.Tensor(5.0066934, shape=(), dtype=float32)\n",
      "tf.Tensor(2.4946523, shape=(), dtype=float32)\n"
     ],
     "output_type": "stream"
    }
   ],
   "source": [
    "print(W * 5 + b)  # Predict\n",
    "print(W * 2.5 + b)\n"
   ],
   "metadata": {
    "collapsed": false,
    "pycharm": {
     "name": "#%%\n",
     "is_executing": false
    }
   }
  }
 ],
 "metadata": {
  "kernelspec": {
   "display_name": "Python 3",
   "language": "python",
   "name": "python3"
  },
  "language_info": {
   "codemirror_mode": {
    "name": "ipython",
    "version": 2
   },
   "file_extension": ".py",
   "mimetype": "text/x-python",
   "name": "python",
   "nbconvert_exporter": "python",
   "pygments_lexer": "ipython2",
   "version": "2.7.6"
  },
  "pycharm": {
   "stem_cell": {
    "cell_type": "raw",
    "source": [],
    "metadata": {
     "collapsed": false
    }
   }
  }
 },
 "nbformat": 4,
 "nbformat_minor": 0
}