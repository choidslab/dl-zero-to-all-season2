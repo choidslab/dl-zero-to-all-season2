{
 "cells": [
  {
   "cell_type": "code",
   "execution_count": 14,
   "metadata": {
    "collapsed": true,
    "pycharm": {
     "is_executing": false
    }
   },
   "outputs": [
    {
     "name": "stdout",
     "text": [
      "2.1.0\n"
     ],
     "output_type": "stream"
    }
   ],
   "source": [
    "import numpy as np\n",
    "import matplotlib.pyplot as plt\n",
    "import tensorflow as tf\n",
    "\n",
    "\n",
    "print(tf.__version__)"
   ]
  },
  {
   "cell_type": "code",
   "execution_count": 16,
   "outputs": [
    {
     "name": "stdout",
     "text": [
      "(759, 8) (759, 1)\n",
      "[[-0.294118   0.487437   0.180328  ... -0.53117   -0.0333333  0.       ]\n",
      " [-0.882353  -0.145729   0.0819672 ... -0.766866  -0.666667   1.       ]\n",
      " [-0.0588235  0.839196   0.0491803 ... -0.492741  -0.633333   0.       ]\n",
      " ...\n",
      " [-0.411765   0.21608    0.180328  ... -0.857387  -0.7        1.       ]\n",
      " [-0.882353   0.266332  -0.0163934 ... -0.768574  -0.133333   0.       ]\n",
      " [-0.882353  -0.0653266  0.147541  ... -0.797609  -0.933333   1.       ]]\n",
      "<tf.Variable 'weight:0' shape=(8, 1) dtype=float32, numpy=\n",
      "array([[-1.0432005 ],\n",
      "       [-0.2659193 ],\n",
      "       [ 1.5240275 ],\n",
      "       [ 0.39498618],\n",
      "       [ 0.9954591 ],\n",
      "       [ 0.7634289 ],\n",
      "       [-0.35749814],\n",
      "       [-0.71573275]], dtype=float32)> <tf.Variable 'bias:0' shape=(1,) dtype=float32, numpy=array([1.0567429], dtype=float32)>\n",
      "Iter: 0, Loss: 1.3726\n",
      "Iter: 100, Loss: 0.9365\n",
      "Iter: 200, Loss: 0.7448\n",
      "Iter: 300, Loss: 0.6695\n",
      "Iter: 400, Loss: 0.6380\n",
      "Iter: 500, Loss: 0.6225\n",
      "Iter: 600, Loss: 0.6132\n",
      "Iter: 700, Loss: 0.6065\n",
      "Iter: 800, Loss: 0.6009\n",
      "Iter: 900, Loss: 0.5958\n",
      "Iter: 1000, Loss: 0.5912\n"
     ],
     "output_type": "stream"
    }
   ],
   "source": [
    "xy = np.loadtxt('data/data-03-diabetes.csv', delimiter=',', dtype=np.float32)\n",
    "x_train = xy[:, 0:-1]\n",
    "y_train = xy[:, [-1]]\n",
    "\n",
    "print(x_train.shape, y_train.shape)\n",
    "print(xy)\n",
    "\n",
    "# tf data API를 통해 데이터셋을 세팅한다.\n",
    "# batch size == 한 번에 학습시킬 크기를 의미한다.\n",
    "dataset = tf.data.Dataset.from_tensor_slices((x_train, y_train)).batch(len(x_train))\n",
    "\n",
    "W = tf.Variable(tf.random.normal([8, 1]), name='weight')\n",
    "b = tf.Variable(tf.random.normal([1]), name='bias')\n",
    "\n",
    "print(W, b)\n",
    "\n",
    "# optimizer = tf.train.GradientDescentOptimizer(learning_rate=0.01) => tf 2.x에서 사용 안 함\n",
    "optimizer = tf.optimizers.SGD(learning_rate=0.01) # tf 2.x에서 사용하는 Gradient Descent 알고리즘 함수\n",
    "epochs = 1001\n",
    "\n",
    "def logistic_regression(features):\n",
    "    hypothesis = tf.divide(1., 1. + tf.exp(tf.matmul(features, W) + b))\n",
    "    return hypothesis\n",
    "    \n",
    "def cost_fucntion(hypothesis, features, labels):\n",
    "    cost = tf.reduce_mean(-labels * tf.math.log(logistic_regression(features)) - (1- labels) * tf.math.log(1 - logistic_regression(features)))\n",
    "    return cost\n",
    "\n",
    "def accuracy_function(hypothesis, labels):\n",
    "    predicted = tf.cast(hypothesis > 0.5, dtype=tf.float32)\n",
    "    accuracy = tf.reduce_mean(tf.cast(tf.equal(predicted, labels), dtype=tf.int32))\n",
    "    return accuracy\n",
    "\n",
    "def grad(hypothesis, features, labels):\n",
    "    with tf.GradientTape() as tape:\n",
    "        loss_value = cost_fucntion(logistic_regression(features), features, labels)\n",
    "    return tape.gradient(loss_value, [W,b])\n",
    "\n",
    "for step in range(epochs):\n",
    "    for features, labels in iter(dataset):\n",
    "        grads = grad(logistic_regression(features), features, labels)\n",
    "        optimizer.apply_gradients(grads_and_vars=zip(grads, [W, b]))\n",
    "        \n",
    "        if step % 100 == 0:\n",
    "            print(\"Iter: {}, Loss: {:.4f}\".format(step, cost_fucntion(logistic_regression(features), features, labels)))"
   ],
   "metadata": {
    "collapsed": false,
    "pycharm": {
     "name": "#%%\n",
     "is_executing": false
    }
   }
  }
 ],
 "metadata": {
  "kernelspec": {
   "display_name": "Python 3",
   "language": "python",
   "name": "python3"
  },
  "language_info": {
   "codemirror_mode": {
    "name": "ipython",
    "version": 2
   },
   "file_extension": ".py",
   "mimetype": "text/x-python",
   "name": "python",
   "nbconvert_exporter": "python",
   "pygments_lexer": "ipython2",
   "version": "2.7.6"
  },
  "pycharm": {
   "stem_cell": {
    "cell_type": "raw",
    "source": [],
    "metadata": {
     "collapsed": false
    }
   }
  }
 },
 "nbformat": 4,
 "nbformat_minor": 0
}