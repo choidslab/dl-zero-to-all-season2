{
 "cells": [
  {
   "cell_type": "code",
   "execution_count": 1,
   "metadata": {
    "collapsed": true,
    "pycharm": {
     "is_executing": false
    }
   },
   "outputs": [
    {
     "name": "stdout",
     "text": [
      "-3.000 |   74.66667\n",
      "-2.429 |   54.85714\n",
      "-1.857 |   38.09524\n",
      "-1.286 |   24.38095\n",
      "-0.714 |   13.71429\n",
      "-0.143 |    6.09524\n",
      " 0.429 |    1.52381\n",
      " 1.000 |    0.00000\n",
      " 1.571 |    1.52381\n",
      " 2.143 |    6.09524\n",
      " 2.714 |   13.71429\n",
      " 3.286 |   24.38095\n",
      " 3.857 |   38.09524\n",
      " 4.429 |   54.85714\n",
      " 5.000 |   74.66667\n"
     ],
     "output_type": "stream"
    }
   ],
   "source": [
    "import tensorflow as tf\n",
    "import numpy as np\n",
    "\n",
    "X = np.array([1, 2, 3])\n",
    "Y = np.array([1, 2, 3])\n",
    "\n",
    "def cost_func(W, X, Y):\n",
    "    hypothesis = X * W\n",
    "    return tf.reduce_mean(tf.square(hypothesis - Y))  # Mean Square Error(MSE)\n",
    "\n",
    "W_values = np.linspace(-3, 5, num=15)\n",
    "cost_values = []\n",
    "\n",
    "for feed_W in W_values:\n",
    "    curr_cost = cost_func(feed_W, X, Y)\n",
    "    cost_values.append(curr_cost)\n",
    "    print(\"{:6.3f} | {:10.5f}\".format(feed_W, curr_cost))"
   ]
  },
  {
   "cell_type": "markdown",
   "source": [
    "## Gradient Descent"
   ],
   "metadata": {
    "collapsed": false,
    "pycharm": {
     "name": "#%% md\n"
    }
   }
  },
  {
   "cell_type": "code",
   "source": [
    "W = tf.Variable(tf.random.normal((1,), -100., 100.))\n",
    "\n",
    "for step in range(300):\n",
    "    hypothesis = W * X\n",
    "    cost = tf.reduce_mean(tf.square(hypothesis - Y))\n",
    "\n",
    "    alpha = 0.01 # learning rate\n",
    "    gradient = tf.reduce_mean(tf.multiply(tf.multiply(W, X) - Y, X))\n",
    "    descent = W - tf.multiply(alpha, gradient)\n",
    "    W.assign(descent)\n",
    "    \n",
    "    if step % 10 == 0:\n",
    "        print('{:5} | {:10.4f} | {:10.6f}'.format(\n",
    "            step, cost.numpy(), W.numpy()[0]))"
   ],
   "metadata": {
    "collapsed": false,
    "pycharm": {
     "name": "#%%\n",
     "is_executing": false
    }
   },
   "execution_count": 9,
   "outputs": [
    {
     "name": "stdout",
     "text": [
      "    0 | 459754.2812 | -298.229431\n",
      "   10 | 176775.2500 | -184.546219\n",
      "   20 | 67969.9609 | -114.053513\n",
      "   30 | 26134.3965 | -70.342384\n",
      "   40 | 10048.6602 | -43.237995\n",
      "   50 |  3863.7034 | -26.431103\n",
      "   60 |  1485.5914 | -16.009481\n",
      "   70 |   571.2089 |  -9.547241\n",
      "   80 |   219.6294 |  -5.540134\n",
      "   90 |    84.4473 |  -3.055406\n",
      "  100 |    32.4699 |  -1.514676\n",
      "  110 |    12.4847 |  -0.559301\n",
      "  120 |     4.8003 |   0.033109\n",
      "  130 |     1.8457 |   0.400450\n",
      "  140 |     0.7097 |   0.628231\n",
      "  150 |     0.2729 |   0.769473\n",
      "  160 |     0.1049 |   0.857055\n",
      "  170 |     0.0403 |   0.911363\n",
      "  180 |     0.0155 |   0.945038\n",
      "  190 |     0.0060 |   0.965919\n",
      "  200 |     0.0023 |   0.978867\n",
      "  210 |     0.0009 |   0.986896\n",
      "  220 |     0.0003 |   0.991874\n",
      "  230 |     0.0001 |   0.994962\n",
      "  240 |     0.0001 |   0.996876\n",
      "  250 |     0.0000 |   0.998063\n",
      "  260 |     0.0000 |   0.998799\n",
      "  270 |     0.0000 |   0.999255\n",
      "  280 |     0.0000 |   0.999538\n",
      "  290 |     0.0000 |   0.999714\n"
     ],
     "output_type": "stream"
    }
   ]
  }
 ],
 "metadata": {
  "kernelspec": {
   "display_name": "Python 3",
   "language": "python",
   "name": "python3"
  },
  "language_info": {
   "codemirror_mode": {
    "name": "ipython",
    "version": 2
   },
   "file_extension": ".py",
   "mimetype": "text/x-python",
   "name": "python",
   "nbconvert_exporter": "python",
   "pygments_lexer": "ipython2",
   "version": "2.7.6"
  },
  "pycharm": {
   "stem_cell": {
    "cell_type": "raw",
    "source": [],
    "metadata": {
     "collapsed": false
    }
   }
  }
 },
 "nbformat": 4,
 "nbformat_minor": 0
}